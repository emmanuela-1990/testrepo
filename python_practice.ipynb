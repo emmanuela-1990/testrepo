{
 "cells": [
  {
   "cell_type": "code",
   "execution_count": 8,
   "metadata": {},
   "outputs": [],
   "source": [
    "import numpy as np\n",
    "from scipy import *\n",
    "import matplotlib.pyplot as plt"
   ]
  },
  {
   "cell_type": "code",
   "execution_count": 9,
   "metadata": {},
   "outputs": [],
   "source": [
    "# sum of two numbers\n",
    "\n",
    "\n",
    "def summation(x,y):\n",
    "\n",
    "    c = x+y\n",
    "    return c\n"
   ]
  },
  {
   "cell_type": "code",
   "execution_count": 10,
   "metadata": {},
   "outputs": [
    {
     "data": {
      "text/plain": [
       "7"
      ]
     },
     "execution_count": 10,
     "metadata": {},
     "output_type": "execute_result"
    }
   ],
   "source": [
    "d = summation(3,4)\n",
    "d"
   ]
  },
  {
   "cell_type": "code",
   "execution_count": 11,
   "metadata": {},
   "outputs": [
    {
     "data": {
      "text/plain": [
       "7"
      ]
     },
     "execution_count": 11,
     "metadata": {},
     "output_type": "execute_result"
    }
   ],
   "source": [
    "d"
   ]
  },
  {
   "cell_type": "code",
   "execution_count": 12,
   "metadata": {},
   "outputs": [],
   "source": [
    "def average(x1,x2,x3,x4,x5):\n",
    "    return (x1+x2+x3+x4+x5)/5"
   ]
  },
  {
   "cell_type": "code",
   "execution_count": 13,
   "metadata": {},
   "outputs": [
    {
     "data": {
      "text/plain": [
       "5.0"
      ]
     },
     "execution_count": 13,
     "metadata": {},
     "output_type": "execute_result"
    }
   ],
   "source": [
    "average(3,4,5,6,7)"
   ]
  },
  {
   "cell_type": "code",
   "execution_count": 14,
   "metadata": {},
   "outputs": [
    {
     "data": {
      "text/plain": [
       "2.4"
      ]
     },
     "execution_count": 14,
     "metadata": {},
     "output_type": "execute_result"
    }
   ],
   "source": [
    "ha = lambda x1,x2,x3,x4,x5: (x1+x2+x3+x4+x5)/5\n",
    "\n",
    "ha(2,4,1,3,2)"
   ]
  },
  {
   "cell_type": "code",
   "execution_count": 15,
   "metadata": {},
   "outputs": [
    {
     "data": {
      "text/plain": [
       "2.0"
      ]
     },
     "execution_count": 15,
     "metadata": {},
     "output_type": "execute_result"
    }
   ],
   "source": [
    "sqrt(4)"
   ]
  },
  {
   "cell_type": "code",
   "execution_count": 16,
   "metadata": {},
   "outputs": [],
   "source": [
    "def standard_dev(x1,x2,x3,x4,x5):\n",
    "    av = average(x1,x2,x3,x4,x5)\n",
    "    std1 = sqrt(((x1-av)**2 + (x2-av)**2 + (x3-av)**2 + (x4-av)**2 + (x5-av)**2)/5)\n",
    "    return std1\n",
    "\n",
    "\n",
    "y = standard_dev(9,10,7,4,13)\n",
    "    "
   ]
  },
  {
   "cell_type": "code",
   "execution_count": 17,
   "metadata": {},
   "outputs": [
    {
     "data": {
      "text/plain": [
       "3.006659275674582"
      ]
     },
     "execution_count": 17,
     "metadata": {},
     "output_type": "execute_result"
    }
   ],
   "source": [
    "y"
   ]
  },
  {
   "cell_type": "code",
   "execution_count": 18,
   "metadata": {},
   "outputs": [
    {
     "data": {
      "text/plain": [
       "3.006659275674582"
      ]
     },
     "execution_count": 18,
     "metadata": {},
     "output_type": "execute_result"
    }
   ],
   "source": [
    "av = lambda x1,x2,x3,x4,x5: (x1+x2+x3+x4+x5)/5\n",
    "stand_dev = lambda x1,x2,x3,x4,x5: sqrt(((x1-av(x1,x2,x3,x4,x5))**2 + (x2-av(x1,x2,x3,x4,x5))**2 + (x3-av(x1,x2,x3,x4,x5))**2 + (x4-av(x1,x2,x3,x4,x5))**2 + (x5-av(x1,x2,x3,x4,x5))**2)/5)\n",
    "stand_dev(9,10,7,4,13)"
   ]
  },
  {
   "cell_type": "code",
   "execution_count": 19,
   "metadata": {},
   "outputs": [
    {
     "data": {
      "text/plain": [
       "'Emmanuel Akinlabi'"
      ]
     },
     "execution_count": 19,
     "metadata": {},
     "output_type": "execute_result"
    }
   ],
   "source": [
    "name = 'Emmanuel Akinlabi'\n",
    "name"
   ]
  },
  {
   "cell_type": "code",
   "execution_count": 20,
   "metadata": {},
   "outputs": [
    {
     "data": {
      "text/plain": [
       "'900 level'"
      ]
     },
     "execution_count": 20,
     "metadata": {},
     "output_type": "execute_result"
    }
   ],
   "source": [
    "level = \"900 level\"\n",
    "level"
   ]
  },
  {
   "cell_type": "code",
   "execution_count": 21,
   "metadata": {},
   "outputs": [],
   "source": [
    "data = name + ' ' + level"
   ]
  },
  {
   "cell_type": "code",
   "execution_count": 22,
   "metadata": {},
   "outputs": [
    {
     "data": {
      "text/plain": [
       "'Emmanuel Akinlabi 900 level'"
      ]
     },
     "execution_count": 22,
     "metadata": {},
     "output_type": "execute_result"
    }
   ],
   "source": [
    "data"
   ]
  },
  {
   "cell_type": "code",
   "execution_count": null,
   "metadata": {},
   "outputs": [],
   "source": []
  },
  {
   "cell_type": "code",
   "execution_count": 23,
   "metadata": {},
   "outputs": [],
   "source": [
    "def color_id(color):\n",
    "    if color != 'o':\n",
    "        print('The color is orange')\n",
    "    elif  color == 'r':\n",
    "        print('The color is red')\n",
    "    elif color == 'g':\n",
    "        print('The color is green')\n",
    "    else:\n",
    "        return 'no color'\n",
    "        "
   ]
  },
  {
   "cell_type": "code",
   "execution_count": 24,
   "metadata": {},
   "outputs": [
    {
     "name": "stdout",
     "output_type": "stream",
     "text": [
      "The color is orange\n"
     ]
    }
   ],
   "source": [
    "color_id('r')"
   ]
  },
  {
   "cell_type": "code",
   "execution_count": 25,
   "metadata": {},
   "outputs": [
    {
     "data": {
      "text/plain": [
       "True"
      ]
     },
     "execution_count": 25,
     "metadata": {},
     "output_type": "execute_result"
    }
   ],
   "source": [
    "'a' in 'abcd'"
   ]
  },
  {
   "cell_type": "code",
   "execution_count": 26,
   "metadata": {},
   "outputs": [],
   "source": [
    "def checker(words,ind):\n",
    "    if ind in words:\n",
    "        print('YES')\n",
    "    else:\n",
    "        print(\"NO\")"
   ]
  },
  {
   "cell_type": "code",
   "execution_count": 27,
   "metadata": {},
   "outputs": [
    {
     "name": "stdout",
     "output_type": "stream",
     "text": [
      "NO\n"
     ]
    }
   ],
   "source": [
    "checker('AKINLABI',\"J\")"
   ]
  },
  {
   "cell_type": "code",
   "execution_count": 28,
   "metadata": {},
   "outputs": [],
   "source": [
    "#def maximum(list):\n",
    "#    n = len(list)\n",
    "#    if list(1)>list(0):\n",
    "#        if list(2)>= list\n",
    "        "
   ]
  },
  {
   "cell_type": "code",
   "execution_count": 29,
   "metadata": {},
   "outputs": [],
   "source": [
    "def summation(lst):\n",
    "    n = len(lst)\n",
    "    s = 0\n",
    "    for x in lst:\n",
    "        s += x\n",
    "\n",
    "    return s"
   ]
  },
  {
   "cell_type": "code",
   "execution_count": 30,
   "metadata": {},
   "outputs": [
    {
     "data": {
      "text/plain": [
       "177"
      ]
     },
     "execution_count": 30,
     "metadata": {},
     "output_type": "execute_result"
    }
   ],
   "source": [
    "summation([2,3,4,5,6,7,78,7,65])"
   ]
  },
  {
   "cell_type": "code",
   "execution_count": 31,
   "metadata": {},
   "outputs": [],
   "source": [
    "def maximum(lst):\n",
    "    n = len(lst)\n",
    "    s = -1000\n",
    "    for i in range(n):\n",
    "        if s<lst[i]:\n",
    "            s = lst[i]\n",
    "        else:\n",
    "            s = s\n",
    "    return s"
   ]
  },
  {
   "cell_type": "code",
   "execution_count": 32,
   "metadata": {},
   "outputs": [],
   "source": [
    "def minimum(lst):\n",
    "    n = len(lst)\n",
    "    s = 100\n",
    "    for i in range(n):\n",
    "        if s<lst[i]:\n",
    "            s = s\n",
    "        else:\n",
    "            s = lst[i]\n",
    "    return s"
   ]
  },
  {
   "cell_type": "code",
   "execution_count": 33,
   "metadata": {},
   "outputs": [
    {
     "data": {
      "text/plain": [
       "34"
      ]
     },
     "execution_count": 33,
     "metadata": {},
     "output_type": "execute_result"
    }
   ],
   "source": [
    "ade = [64, 84, 51, 34, 41, 85]\n",
    "minimum(ade)"
   ]
  },
  {
   "cell_type": "code",
   "execution_count": 34,
   "metadata": {},
   "outputs": [
    {
     "data": {
      "text/plain": [
       "89"
      ]
     },
     "execution_count": 34,
     "metadata": {},
     "output_type": "execute_result"
    }
   ],
   "source": [
    "ade = [23,1,5,6,75,32,12,89]\n",
    "maximum(ade)"
   ]
  },
  {
   "cell_type": "code",
   "execution_count": 35,
   "metadata": {},
   "outputs": [
    {
     "name": "stdout",
     "output_type": "stream",
     "text": [
      "First line of text\n",
      "Second line of text\n",
      "Third line of text\n",
      "\n",
      "\n"
     ]
    }
   ],
   "source": [
    "f = open('data/file_example.txt', 'r')\n",
    "contents = f.read()\n",
    "print(contents)\n",
    "f.close()"
   ]
  },
  {
   "cell_type": "code",
   "execution_count": 36,
   "metadata": {},
   "outputs": [
    {
     "name": "stdout",
     "output_type": "stream",
     "text": [
      "First line of text\n",
      "Second line of text\n",
      "Third line of text\n",
      "\n",
      "\n"
     ]
    }
   ],
   "source": [
    "with open('data/file_example.txt', 'r') as f:\n",
    "    contents = f.read()\n",
    "\n",
    "print(contents)"
   ]
  },
  {
   "cell_type": "code",
   "execution_count": 37,
   "metadata": {},
   "outputs": [
    {
     "name": "stdout",
     "output_type": "stream",
     "text": [
      "First ten: First line\n",
      "The rest:  of text\n",
      "Second line of text\n",
      "Third line of text\n",
      "\n",
      "\n"
     ]
    }
   ],
   "source": [
    "with open('data/file_example.txt', 'r') as f:\n",
    "    first_ten = f.read(10)\n",
    "    the_rest = f.read()\n",
    "    \n",
    "print('First ten:', first_ten)\n",
    "print('The rest:', the_rest)"
   ]
  },
  {
   "cell_type": "code",
   "execution_count": 38,
   "metadata": {},
   "outputs": [
    {
     "name": "stdout",
     "output_type": "stream",
     "text": [
      "['First line of text\\n', 'Second line of text\\n', 'Third line of text\\n', '\\n']\n"
     ]
    }
   ],
   "source": [
    "with open('data/file_example.txt', 'r') as example_file:\n",
    "    lines = example_file.readlines()\n",
    "print(lines)"
   ]
  },
  {
   "cell_type": "code",
   "execution_count": 39,
   "metadata": {},
   "outputs": [
    {
     "data": {
      "text/plain": [
       "['Mercury\\n', 'Venus\\n', 'Earth\\n', 'Mars\\n']"
      ]
     },
     "execution_count": 39,
     "metadata": {},
     "output_type": "execute_result"
    }
   ],
   "source": [
    "with open('data/planets.txt', 'r') as pf:\n",
    "    planets = pf.readlines()\n",
    "    \n",
    "planets"
   ]
  },
  {
   "cell_type": "code",
   "execution_count": 40,
   "metadata": {},
   "outputs": [
    {
     "name": "stdout",
     "output_type": "stream",
     "text": [
      "Mars\n",
      "Earth\n",
      "Venus\n",
      "Mercury\n"
     ]
    }
   ],
   "source": [
    "for planet in reversed(planets):\n",
    "    print(planet.strip())"
   ]
  },
  {
   "cell_type": "code",
   "execution_count": 41,
   "metadata": {},
   "outputs": [
    {
     "name": "stdout",
     "output_type": "stream",
     "text": [
      "Earth\n",
      "Mars\n",
      "Mercury\n",
      "Venus\n"
     ]
    }
   ],
   "source": [
    "for planet in sorted(planets):\n",
    "    print(planet.strip())"
   ]
  },
  {
   "cell_type": "code",
   "execution_count": 42,
   "metadata": {},
   "outputs": [
    {
     "name": "stdout",
     "output_type": "stream",
     "text": [
      "8\n",
      "6\n",
      "6\n",
      "5\n"
     ]
    }
   ],
   "source": [
    "with open('data/planets.txt', 'r') as data_file:\n",
    "    for line in data_file:\n",
    "        print(len(line))"
   ]
  },
  {
   "cell_type": "code",
   "execution_count": 43,
   "metadata": {},
   "outputs": [
    {
     "name": "stdout",
     "output_type": "stream",
     "text": [
      "7\n",
      "5\n",
      "5\n",
      "4\n"
     ]
    }
   ],
   "source": [
    "with open('data/planets.txt', 'r') as data_file:\n",
    "    for line in data_file:\n",
    "        print(len(line.strip()))"
   ]
  },
  {
   "cell_type": "code",
   "execution_count": 44,
   "metadata": {},
   "outputs": [
    {
     "name": "stdout",
     "output_type": "stream",
     "text": [
      "Total number of pelts: 4382\n",
      "91\n"
     ]
    }
   ],
   "source": [
    "with open('data/hopedale.dat', 'r') as hopedale_file:\n",
    "    data = hopedale_file.readline()\n",
    "    data = hopedale_file.readline().strip()\n",
    "    while data.startswith('#'):\n",
    "        data = hopedale_file.readline().strip()\n",
    "    total_pelts = int(data)\n",
    "#    print(data.strip())\n",
    "    i = 0\n",
    "    for data in hopedale_file:\n",
    "        i +=1\n",
    "        total_pelts = total_pelts + int(data.strip())\n",
    "#        print(data.strip())\n",
    "print(\"Total number of pelts:\", total_pelts)\n",
    "print(i)\n",
    "#print(hopedale_file)"
   ]
  },
  {
   "cell_type": "code",
   "execution_count": 45,
   "metadata": {},
   "outputs": [
    {
     "name": "stdout",
     "output_type": "stream",
     "text": [
      "18\n"
     ]
    }
   ],
   "source": [
    "with open('data/topics.txt', 'w') as output_file:\n",
    "    num_characters = output_file.write('Computer Science \\n')\n",
    "print(num_characters)"
   ]
  },
  {
   "cell_type": "code",
   "execution_count": 46,
   "metadata": {},
   "outputs": [],
   "source": [
    "with open('data/topics.txt', 'a') as output_file:\n",
    "    output_file.write('Software Engineering')"
   ]
  },
  {
   "cell_type": "code",
   "execution_count": 47,
   "metadata": {},
   "outputs": [],
   "source": [
    "with open('data/hopedale1.dat', 'r') as input_file:\n",
    "    data = input_file.readline()\n",
    "    data = input_file.readline().strip()\n",
    "    while data.startswith('#'):\n",
    "        data = input_file.readline().strip()\n",
    "    d = int(data)\n",
    "    values = np.zeros(92)\n",
    "    values[0] = d\n",
    "    i=1\n",
    "    for line in input_file:\n",
    "        try:\n",
    "            n = int(line.strip())\n",
    "            d = int(line.strip())\n",
    "            values[i]=d\n",
    "            i+=1\n",
    "        except ValueError:\n",
    "            pass # or print a warning message"
   ]
  },
  {
   "cell_type": "code",
   "execution_count": 48,
   "metadata": {},
   "outputs": [
    {
     "name": "stdout",
     "output_type": "stream",
     "text": [
      "92\n",
      "[ 22.  29.   2.  16.  12.  35.   8.  83. 166.  62.  77.  42.  54.  56.\n",
      "   5.   9.  78. 151.  27.  14.  71. 261.  22.   3.  16.  70.   7.   2.\n",
      "  26.  27.  35.   9.  11.  73.  39.  22.  41.  31.  60.   7.  28.  43.\n",
      "  17.  26.  35.  60.  75.  18.  58.  38.  28.  26.  29.  43.  16.  40.\n",
      "  25.  28.  12.  22.  13.  52.  90. 103.  15.  26.  29. 102.  31.   9.\n",
      "  33.  90.  95.  17.  35.  59. 115.  12.  26.  38. 202.  25.  83.  92.\n",
      "  58.   0.  19.  63. 108.  25.  38. 231.]\n"
     ]
    }
   ],
   "source": [
    "print(i)\n",
    "print(values)"
   ]
  },
  {
   "cell_type": "code",
   "execution_count": null,
   "metadata": {},
   "outputs": [],
   "source": [
    "\n",
    "         "
   ]
  },
  {
   "cell_type": "code",
   "execution_count": null,
   "metadata": {},
   "outputs": [],
   "source": [
    "\n"
   ]
  },
  {
   "cell_type": "code",
   "execution_count": 49,
   "metadata": {},
   "outputs": [
    {
     "data": {
      "image/png": "[encoded data removed]",
      "text/plain": [
       "<Figure size 432x288 with 1 Axes>"
      ]
     },
     "metadata": {
      "needs_background": "light"
     },
     "output_type": "display_data"
    }
   ],
   "source": [
    "x = range(i)\n",
    "plt.plot(x,values,label=\"pelts\")\n",
    "plt.grid()\n",
    "plt.legend()\n",
    "plt.show()"
   ]
  },
  {
   "cell_type": "code",
   "execution_count": null,
   "metadata": {},
   "outputs": [],
   "source": []
  }
 ],
 "metadata": {
  "kernelspec": {
   "display_name": "Python 3",
   "language": "python",
   "name": "python3"
  },
  "language_info": {
   "codemirror_mode": {
    "name": "ipython",
    "version": 3
   },
   "file_extension": ".py",
   "mimetype": "text/x-python",
   "name": "python",
   "nbconvert_exporter": "python",
   "pygments_lexer": "ipython3",
   "version": "3.7.0"
  }
 },
 "nbformat": 4,
 "nbformat_minor": 2
}
